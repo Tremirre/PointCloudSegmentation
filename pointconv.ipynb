{
 "cells": [
  {
   "cell_type": "code",
   "execution_count": 13,
   "metadata": {},
   "outputs": [],
   "source": [
    "import torch\n",
    "import torch.utils.data.dataloader\n",
    "import numpy as np\n",
    "import tqdm\n",
    "import matplotlib.pyplot as plt\n",
    "\n",
    "import pcs.models.pointconv\n",
    "import pcs.dataset"
   ]
  },
  {
   "cell_type": "code",
   "execution_count": 2,
   "metadata": {},
   "outputs": [],
   "source": [
    "BATCH_SIZE = 100\n",
    "NUM_CLASSES = 8"
   ]
  },
  {
   "cell_type": "code",
   "execution_count": 3,
   "metadata": {},
   "outputs": [],
   "source": [
    "# TODO: more transforms, normalization, etc.\n",
    "# TODO: aggregate more neighborhoods\n",
    "# TODO: data augmentation\n",
    "# TODO: stratification\n",
    "dataset = pcs.dataset.SemSegDataset(\n",
    "    data_dir=\"./data/aggregated/bild/\",\n",
    "    point_transforms=(lambda x: torch.tensor(x.T, dtype=torch.float32), ),\n",
    "    label_transforms=(\n",
    "        lambda x: np.array(x - 1, dtype=int),\n",
    "        lambda x: torch.eye(NUM_CLASSES)[x],\n",
    "    )\n",
    ")\n",
    "\n",
    "dataloader = torch.utils.data.DataLoader(\n",
    "    dataset,\n",
    "    batch_size=BATCH_SIZE,\n",
    "    shuffle=True\n",
    ")"
   ]
  },
  {
   "cell_type": "code",
   "execution_count": 4,
   "metadata": {},
   "outputs": [],
   "source": [
    "EPOCH_LENGTH = len(dataset) // BATCH_SIZE + bool(len(dataset) % BATCH_SIZE)"
   ]
  },
  {
   "cell_type": "code",
   "execution_count": 5,
   "metadata": {},
   "outputs": [],
   "source": [
    "model = pcs.models.pointconv.PointConvNet(features=4, classes=NUM_CLASSES)\n",
    "loss_fn = torch.nn.CrossEntropyLoss()\n",
    "optimizer = torch.optim.Adam(model.parameters(), lr=0.001)"
   ]
  },
  {
   "cell_type": "code",
   "execution_count": 6,
   "metadata": {},
   "outputs": [
    {
     "data": {
      "text/plain": [
       "PointConvNet(\n",
       "  (sa1): FeatureEncoder(\n",
       "    (mlp_convs): ModuleList(\n",
       "      (0): Conv2d(7, 32, kernel_size=(1, 1), stride=(1, 1))\n",
       "      (1): Conv2d(32, 32, kernel_size=(1, 1), stride=(1, 1))\n",
       "      (2): Conv2d(32, 64, kernel_size=(1, 1), stride=(1, 1))\n",
       "    )\n",
       "    (mlp_bns): ModuleList(\n",
       "      (0-1): 2 x BatchNorm2d(32, eps=1e-05, momentum=0.1, affine=True, track_running_stats=True)\n",
       "      (2): BatchNorm2d(64, eps=1e-05, momentum=0.1, affine=True, track_running_stats=True)\n",
       "    )\n",
       "    (weightnet): WeightNet(\n",
       "      (mlp_convs): ModuleList(\n",
       "        (0): Conv2d(3, 8, kernel_size=(1, 1), stride=(1, 1))\n",
       "        (1): Conv2d(8, 8, kernel_size=(1, 1), stride=(1, 1))\n",
       "        (2): Conv2d(8, 16, kernel_size=(1, 1), stride=(1, 1))\n",
       "      )\n",
       "      (mlp_bns): ModuleList(\n",
       "        (0-1): 2 x BatchNorm2d(8, eps=1e-05, momentum=0.1, affine=True, track_running_stats=True)\n",
       "        (2): BatchNorm2d(16, eps=1e-05, momentum=0.1, affine=True, track_running_stats=True)\n",
       "      )\n",
       "    )\n",
       "    (linear): Linear(in_features=1024, out_features=64, bias=True)\n",
       "    (bn_linear): BatchNorm1d(64, eps=1e-05, momentum=0.1, affine=True, track_running_stats=True)\n",
       "    (densitynet): DensityNet(\n",
       "      (mlp_convs): ModuleList(\n",
       "        (0): Conv2d(1, 16, kernel_size=(1, 1), stride=(1, 1))\n",
       "        (1): Conv2d(16, 8, kernel_size=(1, 1), stride=(1, 1))\n",
       "        (2): Conv2d(8, 1, kernel_size=(1, 1), stride=(1, 1))\n",
       "      )\n",
       "      (mlp_bns): ModuleList(\n",
       "        (0): BatchNorm2d(16, eps=1e-05, momentum=0.1, affine=True, track_running_stats=True)\n",
       "        (1): BatchNorm2d(8, eps=1e-05, momentum=0.1, affine=True, track_running_stats=True)\n",
       "        (2): BatchNorm2d(1, eps=1e-05, momentum=0.1, affine=True, track_running_stats=True)\n",
       "      )\n",
       "    )\n",
       "  )\n",
       "  (sa2): FeatureEncoder(\n",
       "    (mlp_convs): ModuleList(\n",
       "      (0): Conv2d(67, 64, kernel_size=(1, 1), stride=(1, 1))\n",
       "      (1): Conv2d(64, 64, kernel_size=(1, 1), stride=(1, 1))\n",
       "      (2): Conv2d(64, 128, kernel_size=(1, 1), stride=(1, 1))\n",
       "    )\n",
       "    (mlp_bns): ModuleList(\n",
       "      (0-1): 2 x BatchNorm2d(64, eps=1e-05, momentum=0.1, affine=True, track_running_stats=True)\n",
       "      (2): BatchNorm2d(128, eps=1e-05, momentum=0.1, affine=True, track_running_stats=True)\n",
       "    )\n",
       "    (weightnet): WeightNet(\n",
       "      (mlp_convs): ModuleList(\n",
       "        (0): Conv2d(3, 8, kernel_size=(1, 1), stride=(1, 1))\n",
       "        (1): Conv2d(8, 8, kernel_size=(1, 1), stride=(1, 1))\n",
       "        (2): Conv2d(8, 16, kernel_size=(1, 1), stride=(1, 1))\n",
       "      )\n",
       "      (mlp_bns): ModuleList(\n",
       "        (0-1): 2 x BatchNorm2d(8, eps=1e-05, momentum=0.1, affine=True, track_running_stats=True)\n",
       "        (2): BatchNorm2d(16, eps=1e-05, momentum=0.1, affine=True, track_running_stats=True)\n",
       "      )\n",
       "    )\n",
       "    (linear): Linear(in_features=2048, out_features=128, bias=True)\n",
       "    (bn_linear): BatchNorm1d(128, eps=1e-05, momentum=0.1, affine=True, track_running_stats=True)\n",
       "    (densitynet): DensityNet(\n",
       "      (mlp_convs): ModuleList(\n",
       "        (0): Conv2d(1, 16, kernel_size=(1, 1), stride=(1, 1))\n",
       "        (1): Conv2d(16, 8, kernel_size=(1, 1), stride=(1, 1))\n",
       "        (2): Conv2d(8, 1, kernel_size=(1, 1), stride=(1, 1))\n",
       "      )\n",
       "      (mlp_bns): ModuleList(\n",
       "        (0): BatchNorm2d(16, eps=1e-05, momentum=0.1, affine=True, track_running_stats=True)\n",
       "        (1): BatchNorm2d(8, eps=1e-05, momentum=0.1, affine=True, track_running_stats=True)\n",
       "        (2): BatchNorm2d(1, eps=1e-05, momentum=0.1, affine=True, track_running_stats=True)\n",
       "      )\n",
       "    )\n",
       "  )\n",
       "  (sa3): FeatureEncoder(\n",
       "    (mlp_convs): ModuleList(\n",
       "      (0): Conv2d(131, 128, kernel_size=(1, 1), stride=(1, 1))\n",
       "      (1): Conv2d(128, 128, kernel_size=(1, 1), stride=(1, 1))\n",
       "      (2): Conv2d(128, 256, kernel_size=(1, 1), stride=(1, 1))\n",
       "    )\n",
       "    (mlp_bns): ModuleList(\n",
       "      (0-1): 2 x BatchNorm2d(128, eps=1e-05, momentum=0.1, affine=True, track_running_stats=True)\n",
       "      (2): BatchNorm2d(256, eps=1e-05, momentum=0.1, affine=True, track_running_stats=True)\n",
       "    )\n",
       "    (weightnet): WeightNet(\n",
       "      (mlp_convs): ModuleList(\n",
       "        (0): Conv2d(3, 8, kernel_size=(1, 1), stride=(1, 1))\n",
       "        (1): Conv2d(8, 8, kernel_size=(1, 1), stride=(1, 1))\n",
       "        (2): Conv2d(8, 16, kernel_size=(1, 1), stride=(1, 1))\n",
       "      )\n",
       "      (mlp_bns): ModuleList(\n",
       "        (0-1): 2 x BatchNorm2d(8, eps=1e-05, momentum=0.1, affine=True, track_running_stats=True)\n",
       "        (2): BatchNorm2d(16, eps=1e-05, momentum=0.1, affine=True, track_running_stats=True)\n",
       "      )\n",
       "    )\n",
       "    (linear): Linear(in_features=4096, out_features=256, bias=True)\n",
       "    (bn_linear): BatchNorm1d(256, eps=1e-05, momentum=0.1, affine=True, track_running_stats=True)\n",
       "    (densitynet): DensityNet(\n",
       "      (mlp_convs): ModuleList(\n",
       "        (0): Conv2d(1, 16, kernel_size=(1, 1), stride=(1, 1))\n",
       "        (1): Conv2d(16, 8, kernel_size=(1, 1), stride=(1, 1))\n",
       "        (2): Conv2d(8, 1, kernel_size=(1, 1), stride=(1, 1))\n",
       "      )\n",
       "      (mlp_bns): ModuleList(\n",
       "        (0): BatchNorm2d(16, eps=1e-05, momentum=0.1, affine=True, track_running_stats=True)\n",
       "        (1): BatchNorm2d(8, eps=1e-05, momentum=0.1, affine=True, track_running_stats=True)\n",
       "        (2): BatchNorm2d(1, eps=1e-05, momentum=0.1, affine=True, track_running_stats=True)\n",
       "      )\n",
       "    )\n",
       "  )\n",
       "  (sa4): FeatureEncoder(\n",
       "    (mlp_convs): ModuleList(\n",
       "      (0): Conv2d(259, 256, kernel_size=(1, 1), stride=(1, 1))\n",
       "      (1): Conv2d(256, 256, kernel_size=(1, 1), stride=(1, 1))\n",
       "      (2): Conv2d(256, 512, kernel_size=(1, 1), stride=(1, 1))\n",
       "    )\n",
       "    (mlp_bns): ModuleList(\n",
       "      (0-1): 2 x BatchNorm2d(256, eps=1e-05, momentum=0.1, affine=True, track_running_stats=True)\n",
       "      (2): BatchNorm2d(512, eps=1e-05, momentum=0.1, affine=True, track_running_stats=True)\n",
       "    )\n",
       "    (weightnet): WeightNet(\n",
       "      (mlp_convs): ModuleList(\n",
       "        (0): Conv2d(3, 8, kernel_size=(1, 1), stride=(1, 1))\n",
       "        (1): Conv2d(8, 8, kernel_size=(1, 1), stride=(1, 1))\n",
       "        (2): Conv2d(8, 16, kernel_size=(1, 1), stride=(1, 1))\n",
       "      )\n",
       "      (mlp_bns): ModuleList(\n",
       "        (0-1): 2 x BatchNorm2d(8, eps=1e-05, momentum=0.1, affine=True, track_running_stats=True)\n",
       "        (2): BatchNorm2d(16, eps=1e-05, momentum=0.1, affine=True, track_running_stats=True)\n",
       "      )\n",
       "    )\n",
       "    (linear): Linear(in_features=8192, out_features=512, bias=True)\n",
       "    (bn_linear): BatchNorm1d(512, eps=1e-05, momentum=0.1, affine=True, track_running_stats=True)\n",
       "    (densitynet): DensityNet(\n",
       "      (mlp_convs): ModuleList(\n",
       "        (0): Conv2d(1, 16, kernel_size=(1, 1), stride=(1, 1))\n",
       "        (1): Conv2d(16, 8, kernel_size=(1, 1), stride=(1, 1))\n",
       "        (2): Conv2d(8, 1, kernel_size=(1, 1), stride=(1, 1))\n",
       "      )\n",
       "      (mlp_bns): ModuleList(\n",
       "        (0): BatchNorm2d(16, eps=1e-05, momentum=0.1, affine=True, track_running_stats=True)\n",
       "        (1): BatchNorm2d(8, eps=1e-05, momentum=0.1, affine=True, track_running_stats=True)\n",
       "        (2): BatchNorm2d(1, eps=1e-05, momentum=0.1, affine=True, track_running_stats=True)\n",
       "      )\n",
       "    )\n",
       "  )\n",
       "  (fp4): FeatureDecoder(\n",
       "    (mlp_convs): ModuleList(\n",
       "      (0): Conv1d(768, 256, kernel_size=(1,), stride=(1,))\n",
       "      (1): Conv1d(256, 256, kernel_size=(1,), stride=(1,))\n",
       "    )\n",
       "    (mlp_bns): ModuleList(\n",
       "      (0-1): 2 x BatchNorm1d(256, eps=1e-05, momentum=0.1, affine=True, track_running_stats=True)\n",
       "    )\n",
       "  )\n",
       "  (fp3): FeatureDecoder(\n",
       "    (mlp_convs): ModuleList(\n",
       "      (0): Conv1d(384, 256, kernel_size=(1,), stride=(1,))\n",
       "      (1): Conv1d(256, 256, kernel_size=(1,), stride=(1,))\n",
       "    )\n",
       "    (mlp_bns): ModuleList(\n",
       "      (0-1): 2 x BatchNorm1d(256, eps=1e-05, momentum=0.1, affine=True, track_running_stats=True)\n",
       "    )\n",
       "  )\n",
       "  (fp2): FeatureDecoder(\n",
       "    (mlp_convs): ModuleList(\n",
       "      (0): Conv1d(320, 256, kernel_size=(1,), stride=(1,))\n",
       "      (1): Conv1d(256, 256, kernel_size=(1,), stride=(1,))\n",
       "    )\n",
       "    (mlp_bns): ModuleList(\n",
       "      (0-1): 2 x BatchNorm1d(256, eps=1e-05, momentum=0.1, affine=True, track_running_stats=True)\n",
       "    )\n",
       "  )\n",
       "  (fp1): FeatureDecoder(\n",
       "    (mlp_convs): ModuleList(\n",
       "      (0): Conv1d(256, 128, kernel_size=(1,), stride=(1,))\n",
       "      (1-2): 2 x Conv1d(128, 128, kernel_size=(1,), stride=(1,))\n",
       "    )\n",
       "    (mlp_bns): ModuleList(\n",
       "      (0-2): 3 x BatchNorm1d(128, eps=1e-05, momentum=0.1, affine=True, track_running_stats=True)\n",
       "    )\n",
       "  )\n",
       "  (conv1): Conv1d(128, 128, kernel_size=(1,), stride=(1,))\n",
       "  (bn1): BatchNorm1d(128, eps=1e-05, momentum=0.1, affine=True, track_running_stats=True)\n",
       "  (drop1): Dropout(p=0.5, inplace=False)\n",
       "  (conv2): Conv1d(128, 8, kernel_size=(1,), stride=(1,))\n",
       ")"
      ]
     },
     "execution_count": 6,
     "metadata": {},
     "output_type": "execute_result"
    }
   ],
   "source": [
    "model.train()"
   ]
  },
  {
   "cell_type": "code",
   "execution_count": 7,
   "metadata": {},
   "outputs": [
    {
     "name": "stdout",
     "output_type": "stream",
     "text": [
      "Epoch 0\n"
     ]
    },
    {
     "name": "stderr",
     "output_type": "stream",
     "text": [
      "  0%|          | 0/21 [00:00<?, ?it/s]"
     ]
    },
    {
     "name": "stderr",
     "output_type": "stream",
     "text": [
      "Loss: 33.30084228515625: 100%|██████████| 21/21 [12:06<00:00, 34.60s/it] \n"
     ]
    },
    {
     "name": "stdout",
     "output_type": "stream",
     "text": [
      "Mean loss: 33.30606587727865\n",
      "Epoch 1\n"
     ]
    },
    {
     "name": "stderr",
     "output_type": "stream",
     "text": [
      "Loss: 33.28226852416992: 100%|██████████| 21/21 [12:19<00:00, 35.21s/it] \n"
     ]
    },
    {
     "name": "stdout",
     "output_type": "stream",
     "text": [
      "Mean loss: 33.2845215570359\n",
      "Epoch 2\n"
     ]
    },
    {
     "name": "stderr",
     "output_type": "stream",
     "text": [
      "Loss: 33.2812614440918: 100%|██████████| 21/21 [12:28<00:00, 35.63s/it]  \n"
     ]
    },
    {
     "name": "stdout",
     "output_type": "stream",
     "text": [
      "Mean loss: 33.291605086553666\n",
      "Epoch 3\n"
     ]
    },
    {
     "name": "stderr",
     "output_type": "stream",
     "text": [
      "Loss: 33.28646469116211: 100%|██████████| 21/21 [12:23<00:00, 35.41s/it] \n"
     ]
    },
    {
     "name": "stdout",
     "output_type": "stream",
     "text": [
      "Mean loss: 33.28911318097796\n",
      "Epoch 4\n"
     ]
    },
    {
     "name": "stderr",
     "output_type": "stream",
     "text": [
      "Loss: 33.28071975708008: 100%|██████████| 21/21 [11:59<00:00, 34.25s/it] \n"
     ]
    },
    {
     "name": "stdout",
     "output_type": "stream",
     "text": [
      "Mean loss: 33.286648341587615\n",
      "Epoch 5\n"
     ]
    },
    {
     "name": "stderr",
     "output_type": "stream",
     "text": [
      "Loss: 33.280399322509766: 100%|██████████| 21/21 [12:03<00:00, 34.46s/it]\n"
     ]
    },
    {
     "name": "stdout",
     "output_type": "stream",
     "text": [
      "Mean loss: 33.2855951218378\n",
      "Epoch 6\n"
     ]
    },
    {
     "name": "stderr",
     "output_type": "stream",
     "text": [
      "Loss: 33.27577590942383: 100%|██████████| 21/21 [12:05<00:00, 34.52s/it] \n"
     ]
    },
    {
     "name": "stdout",
     "output_type": "stream",
     "text": [
      "Mean loss: 33.28185744512649\n",
      "Epoch 7\n"
     ]
    },
    {
     "name": "stderr",
     "output_type": "stream",
     "text": [
      "Loss: 33.275577545166016: 100%|██████████| 21/21 [11:58<00:00, 34.23s/it]\n"
     ]
    },
    {
     "name": "stdout",
     "output_type": "stream",
     "text": [
      "Mean loss: 33.28069214593796\n",
      "Epoch 8\n"
     ]
    },
    {
     "name": "stderr",
     "output_type": "stream",
     "text": [
      "Loss: 33.27995681762695: 100%|██████████| 21/21 [12:09<00:00, 34.72s/it] \n"
     ]
    },
    {
     "name": "stdout",
     "output_type": "stream",
     "text": [
      "Mean loss: 33.27996263049898\n",
      "Epoch 9\n"
     ]
    },
    {
     "name": "stderr",
     "output_type": "stream",
     "text": [
      "Loss: 33.375247955322266: 100%|██████████| 21/21 [12:09<00:00, 34.73s/it]"
     ]
    },
    {
     "name": "stdout",
     "output_type": "stream",
     "text": [
      "Mean loss: 33.2977176847912\n"
     ]
    },
    {
     "name": "stderr",
     "output_type": "stream",
     "text": [
      "\n"
     ]
    }
   ],
   "source": [
    "def train_one_epoch() -> float:\n",
    "    loss_agg = []\n",
    "    pbar = tqdm.tqdm(dataloader, total=EPOCH_LENGTH)\n",
    "    for data, labels in pbar:\n",
    "        optimizer.zero_grad()\n",
    "        output = model(data)\n",
    "        loss = loss_fn(output, labels)\n",
    "        loss.backward()\n",
    "        optimizer.step()\n",
    "        loss_agg.append(loss.item())\n",
    "        pbar.set_description(f\"Loss: {loss.item()}\")\n",
    "    mean_loss = np.array(loss_agg).mean()\n",
    "    print(f\"Mean loss: {mean_loss}\")\n",
    "    return mean_loss\n",
    "\n",
    "losses = []\n",
    "# Note: PoC, only 10 epochs\n",
    "# Training takes long time nonetheless\n",
    "for epoch in range(10):\n",
    "    print(f\"Epoch {epoch}\")\n",
    "    epoch_loss = train_one_epoch()\n",
    "    losses.append(epoch_loss)"
   ]
  },
  {
   "cell_type": "code",
   "execution_count": 14,
   "metadata": {},
   "outputs": [
    {
     "data": {
      "text/plain": [
       "[<matplotlib.lines.Line2D at 0x179aae3efe0>]"
      ]
     },
     "execution_count": 14,
     "metadata": {},
     "output_type": "execute_result"
    },
    {
     "data": {
      "image/png": "[encoded data removed]",
      "text/plain": [
       "<Figure size 640x480 with 1 Axes>"
      ]
     },
     "metadata": {},
     "output_type": "display_data"
    }
   ],
   "source": [
    "# TODO: verify correctness\n",
    "plt.plot(losses)"
   ]
  }
 ],
 "metadata": {
  "language_info": {
   "name": "python"
  }
 },
 "nbformat": 4,
 "nbformat_minor": 2
}
