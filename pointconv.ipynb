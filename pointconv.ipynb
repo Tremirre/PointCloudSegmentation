{
 "cells": [
  {
   "cell_type": "code",
   "execution_count": null,
   "metadata": {},
   "outputs": [],
   "source": [
    "import torch\n",
    "import torch.utils.data.dataloader\n",
    "import numpy as np\n",
    "import tqdm\n",
    "import matplotlib.pyplot as plt\n",
    "\n",
    "import pcs.models.pointconv\n",
    "import pcs.dataset"
   ]
  },
  {
   "cell_type": "code",
   "execution_count": null,
   "metadata": {},
   "outputs": [],
   "source": [
    "BATCH_SIZE = 100\n",
    "NUM_CLASSES = 8"
   ]
  },
  {
   "cell_type": "code",
   "execution_count": null,
   "metadata": {},
   "outputs": [],
   "source": [
    "# TODO: more transforms, normalization, etc.\n",
    "# TODO: aggregate more neighborhoods\n",
    "# TODO: data augmentation\n",
    "# TODO: stratification\n",
    "dataset = pcs.dataset.SemSegDataset(\n",
    "    data_dir=\"./data/aggregated/bild/\",\n",
    "    point_transforms=(lambda x: torch.tensor(x.T, dtype=torch.float32), ),\n",
    "    label_transforms=(\n",
    "        lambda x: torch.tensor(x-1, dtype=torch.long),\n",
    "    )\n",
    ")\n",
    "\n",
    "dataloader = torch.utils.data.DataLoader(\n",
    "    dataset,\n",
    "    batch_size=BATCH_SIZE,\n",
    "    shuffle=True\n",
    ")"
   ]
  },
  {
   "cell_type": "code",
   "execution_count": null,
   "metadata": {},
   "outputs": [],
   "source": [
    "EPOCH_LENGTH = len(dataset) // BATCH_SIZE + bool(len(dataset) % BATCH_SIZE)"
   ]
  },
  {
   "cell_type": "code",
   "execution_count": null,
   "metadata": {},
   "outputs": [],
   "source": [
    "model = pcs.models.pointconv.PointConvNet(features=4, classes=NUM_CLASSES)\n",
    "loss_fn = torch.nn.NLLLoss()\n",
    "optimizer = torch.optim.Adam(model.parameters(), lr=0.001)"
   ]
  },
  {
   "cell_type": "code",
   "execution_count": null,
   "metadata": {},
   "outputs": [],
   "source": [
    "model.train()"
   ]
  },
  {
   "cell_type": "code",
   "execution_count": null,
   "metadata": {},
   "outputs": [],
   "source": [
    "def train_one_epoch() -> float:\n",
    "    loss_agg = []\n",
    "    pbar = tqdm.tqdm(dataloader, total=EPOCH_LENGTH)\n",
    "    for data, labels in pbar:\n",
    "        optimizer.zero_grad()\n",
    "        output = model(data)\n",
    "        loss = loss_fn(output, labels)\n",
    "        loss.backward()\n",
    "        optimizer.step()\n",
    "        loss_agg.append(loss.item())\n",
    "        pbar.set_description(f\"Loss: {loss.item()}\")\n",
    "    mean_loss = np.array(loss_agg).mean()\n",
    "    print(f\"Mean loss: {mean_loss}\")\n",
    "    return mean_loss\n",
    "\n",
    "losses = []\n",
    "# Note: PoC, only 10 epochs\n",
    "# Training takes long time nonetheless\n",
    "for epoch in range(10):\n",
    "    print(f\"Epoch {epoch}\")\n",
    "    epoch_loss = train_one_epoch()\n",
    "    losses.append(epoch_loss)"
   ]
  },
  {
   "cell_type": "code",
   "execution_count": null,
   "metadata": {},
   "outputs": [],
   "source": [
    "# TODO: verify correctness\n",
    "plt.plot(losses)"
   ]
  }
 ],
 "metadata": {
  "language_info": {
   "name": "python"
  }
 },
 "nbformat": 4,
 "nbformat_minor": 2
}
