{
 "cells": [
  {
   "cell_type": "code",
   "execution_count": 27,
   "metadata": {},
   "outputs": [],
   "source": [
    "import torch\n",
    "import torch.utils.data.dataloader\n",
    "import numpy as np\n",
    "import tqdm\n",
    "import matplotlib.pyplot as plt\n",
    "\n",
    "import pcs.models.pointconv_simple\n",
    "import pcs.dataset"
   ]
  },
  {
   "cell_type": "code",
   "execution_count": 28,
   "metadata": {},
   "outputs": [],
   "source": [
    "BATCH_SIZE = 2 \n",
    "NUM_CLASSES = 8"
   ]
  },
  {
   "cell_type": "code",
   "execution_count": 29,
   "metadata": {},
   "outputs": [],
   "source": [
    "# TODO: more transforms, normalization, etc.\n",
    "# TODO: aggregate more neighborhoods\n",
    "# TODO: data augmentation\n",
    "# TODO: stratification\n",
    "dataset = pcs.dataset.SemSegDataset(\n",
    "    data_dir=\"./data/aggregated/bild/\",\n",
    "    point_transforms=(lambda x: torch.tensor(x.T, dtype=torch.float32), ),\n",
    "    label_transforms=(\n",
    "        lambda x: torch.tensor(x-1, dtype=torch.long),\n",
    "    )\n",
    ")\n",
    "\n",
    "dataloader = torch.utils.data.DataLoader(\n",
    "    dataset,\n",
    "    batch_size=BATCH_SIZE,\n",
    "    shuffle=True\n",
    ")"
   ]
  },
  {
   "cell_type": "code",
   "execution_count": 30,
   "metadata": {},
   "outputs": [],
   "source": [
    "EPOCH_LENGTH = len(dataset) // BATCH_SIZE + bool(len(dataset) % BATCH_SIZE)"
   ]
  },
  {
   "cell_type": "code",
   "execution_count": 31,
   "metadata": {},
   "outputs": [],
   "source": [
    "model = pcs.models.pointconv_simple.PointConvNet(features=4, classes=NUM_CLASSES)\n",
    "loss_fn = torch.nn.NLLLoss()\n",
    "optimizer = torch.optim.Adam(model.parameters(), lr=0.001)"
   ]
  },
  {
   "cell_type": "code",
   "execution_count": 32,
   "metadata": {},
   "outputs": [
    {
     "data": {
      "text/plain": [
       "PointConvNet(\n",
       "  (sa1): FeatureEncoder(\n",
       "    (mlp_convs): ModuleList(\n",
       "      (0): Conv2d(7, 32, kernel_size=(1, 1), stride=(1, 1))\n",
       "      (1): Conv2d(32, 64, kernel_size=(1, 1), stride=(1, 1))\n",
       "    )\n",
       "    (mlp_bns): ModuleList(\n",
       "      (0): BatchNorm2d(32, eps=1e-05, momentum=0.1, affine=True, track_running_stats=True)\n",
       "      (1): BatchNorm2d(64, eps=1e-05, momentum=0.1, affine=True, track_running_stats=True)\n",
       "    )\n",
       "    (weightnet): WeightNet(\n",
       "      (mlp_convs): ModuleList(\n",
       "        (0): Conv2d(3, 8, kernel_size=(1, 1), stride=(1, 1))\n",
       "        (1): Conv2d(8, 8, kernel_size=(1, 1), stride=(1, 1))\n",
       "        (2): Conv2d(8, 16, kernel_size=(1, 1), stride=(1, 1))\n",
       "      )\n",
       "      (mlp_bns): ModuleList(\n",
       "        (0-1): 2 x BatchNorm2d(8, eps=1e-05, momentum=0.1, affine=True, track_running_stats=True)\n",
       "        (2): BatchNorm2d(16, eps=1e-05, momentum=0.1, affine=True, track_running_stats=True)\n",
       "      )\n",
       "    )\n",
       "    (linear): Linear(in_features=1024, out_features=64, bias=True)\n",
       "    (bn_linear): BatchNorm1d(64, eps=1e-05, momentum=0.1, affine=True, track_running_stats=True)\n",
       "    (densitynet): DensityNet(\n",
       "      (mlp_convs): ModuleList(\n",
       "        (0): Conv2d(1, 16, kernel_size=(1, 1), stride=(1, 1))\n",
       "        (1): Conv2d(16, 8, kernel_size=(1, 1), stride=(1, 1))\n",
       "        (2): Conv2d(8, 1, kernel_size=(1, 1), stride=(1, 1))\n",
       "      )\n",
       "      (mlp_bns): ModuleList(\n",
       "        (0): BatchNorm2d(16, eps=1e-05, momentum=0.1, affine=True, track_running_stats=True)\n",
       "        (1): BatchNorm2d(8, eps=1e-05, momentum=0.1, affine=True, track_running_stats=True)\n",
       "        (2): BatchNorm2d(1, eps=1e-05, momentum=0.1, affine=True, track_running_stats=True)\n",
       "      )\n",
       "    )\n",
       "  )\n",
       "  (sa2): FeatureEncoder(\n",
       "    (mlp_convs): ModuleList(\n",
       "      (0): Conv2d(67, 64, kernel_size=(1, 1), stride=(1, 1))\n",
       "      (1): Conv2d(64, 128, kernel_size=(1, 1), stride=(1, 1))\n",
       "    )\n",
       "    (mlp_bns): ModuleList(\n",
       "      (0): BatchNorm2d(64, eps=1e-05, momentum=0.1, affine=True, track_running_stats=True)\n",
       "      (1): BatchNorm2d(128, eps=1e-05, momentum=0.1, affine=True, track_running_stats=True)\n",
       "    )\n",
       "    (weightnet): WeightNet(\n",
       "      (mlp_convs): ModuleList(\n",
       "        (0): Conv2d(3, 8, kernel_size=(1, 1), stride=(1, 1))\n",
       "        (1): Conv2d(8, 8, kernel_size=(1, 1), stride=(1, 1))\n",
       "        (2): Conv2d(8, 16, kernel_size=(1, 1), stride=(1, 1))\n",
       "      )\n",
       "      (mlp_bns): ModuleList(\n",
       "        (0-1): 2 x BatchNorm2d(8, eps=1e-05, momentum=0.1, affine=True, track_running_stats=True)\n",
       "        (2): BatchNorm2d(16, eps=1e-05, momentum=0.1, affine=True, track_running_stats=True)\n",
       "      )\n",
       "    )\n",
       "    (linear): Linear(in_features=2048, out_features=128, bias=True)\n",
       "    (bn_linear): BatchNorm1d(128, eps=1e-05, momentum=0.1, affine=True, track_running_stats=True)\n",
       "    (densitynet): DensityNet(\n",
       "      (mlp_convs): ModuleList(\n",
       "        (0): Conv2d(1, 16, kernel_size=(1, 1), stride=(1, 1))\n",
       "        (1): Conv2d(16, 8, kernel_size=(1, 1), stride=(1, 1))\n",
       "        (2): Conv2d(8, 1, kernel_size=(1, 1), stride=(1, 1))\n",
       "      )\n",
       "      (mlp_bns): ModuleList(\n",
       "        (0): BatchNorm2d(16, eps=1e-05, momentum=0.1, affine=True, track_running_stats=True)\n",
       "        (1): BatchNorm2d(8, eps=1e-05, momentum=0.1, affine=True, track_running_stats=True)\n",
       "        (2): BatchNorm2d(1, eps=1e-05, momentum=0.1, affine=True, track_running_stats=True)\n",
       "      )\n",
       "    )\n",
       "  )\n",
       "  (sa3): FeatureEncoder(\n",
       "    (mlp_convs): ModuleList(\n",
       "      (0): Conv2d(131, 128, kernel_size=(1, 1), stride=(1, 1))\n",
       "      (1): Conv2d(128, 256, kernel_size=(1, 1), stride=(1, 1))\n",
       "    )\n",
       "    (mlp_bns): ModuleList(\n",
       "      (0): BatchNorm2d(128, eps=1e-05, momentum=0.1, affine=True, track_running_stats=True)\n",
       "      (1): BatchNorm2d(256, eps=1e-05, momentum=0.1, affine=True, track_running_stats=True)\n",
       "    )\n",
       "    (weightnet): WeightNet(\n",
       "      (mlp_convs): ModuleList(\n",
       "        (0): Conv2d(3, 8, kernel_size=(1, 1), stride=(1, 1))\n",
       "        (1): Conv2d(8, 8, kernel_size=(1, 1), stride=(1, 1))\n",
       "        (2): Conv2d(8, 16, kernel_size=(1, 1), stride=(1, 1))\n",
       "      )\n",
       "      (mlp_bns): ModuleList(\n",
       "        (0-1): 2 x BatchNorm2d(8, eps=1e-05, momentum=0.1, affine=True, track_running_stats=True)\n",
       "        (2): BatchNorm2d(16, eps=1e-05, momentum=0.1, affine=True, track_running_stats=True)\n",
       "      )\n",
       "    )\n",
       "    (linear): Linear(in_features=4096, out_features=256, bias=True)\n",
       "    (bn_linear): BatchNorm1d(256, eps=1e-05, momentum=0.1, affine=True, track_running_stats=True)\n",
       "    (densitynet): DensityNet(\n",
       "      (mlp_convs): ModuleList(\n",
       "        (0): Conv2d(1, 16, kernel_size=(1, 1), stride=(1, 1))\n",
       "        (1): Conv2d(16, 8, kernel_size=(1, 1), stride=(1, 1))\n",
       "        (2): Conv2d(8, 1, kernel_size=(1, 1), stride=(1, 1))\n",
       "      )\n",
       "      (mlp_bns): ModuleList(\n",
       "        (0): BatchNorm2d(16, eps=1e-05, momentum=0.1, affine=True, track_running_stats=True)\n",
       "        (1): BatchNorm2d(8, eps=1e-05, momentum=0.1, affine=True, track_running_stats=True)\n",
       "        (2): BatchNorm2d(1, eps=1e-05, momentum=0.1, affine=True, track_running_stats=True)\n",
       "      )\n",
       "    )\n",
       "  )\n",
       "  (fp3): FeatureFlatDecoder(\n",
       "    (mlp_convs): ModuleList(\n",
       "      (0): Conv1d(384, 256, kernel_size=(1,), stride=(1,))\n",
       "      (1): Conv1d(256, 256, kernel_size=(1,), stride=(1,))\n",
       "    )\n",
       "    (mlp_bns): ModuleList(\n",
       "      (0-1): 2 x BatchNorm1d(256, eps=1e-05, momentum=0.1, affine=True, track_running_stats=True)\n",
       "    )\n",
       "  )\n",
       "  (fp2): FeatureFlatDecoder(\n",
       "    (mlp_convs): ModuleList(\n",
       "      (0): Conv1d(320, 256, kernel_size=(1,), stride=(1,))\n",
       "      (1): Conv1d(256, 256, kernel_size=(1,), stride=(1,))\n",
       "    )\n",
       "    (mlp_bns): ModuleList(\n",
       "      (0-1): 2 x BatchNorm1d(256, eps=1e-05, momentum=0.1, affine=True, track_running_stats=True)\n",
       "    )\n",
       "  )\n",
       "  (fp1): FeatureFlatDecoder(\n",
       "    (mlp_convs): ModuleList(\n",
       "      (0): Conv1d(256, 128, kernel_size=(1,), stride=(1,))\n",
       "      (1): Conv1d(128, 128, kernel_size=(1,), stride=(1,))\n",
       "    )\n",
       "    (mlp_bns): ModuleList(\n",
       "      (0-1): 2 x BatchNorm1d(128, eps=1e-05, momentum=0.1, affine=True, track_running_stats=True)\n",
       "    )\n",
       "  )\n",
       "  (conv1): Conv1d(128, 128, kernel_size=(1,), stride=(1,))\n",
       "  (bn1): BatchNorm1d(128, eps=1e-05, momentum=0.1, affine=True, track_running_stats=True)\n",
       "  (drop1): Dropout(p=0.5, inplace=False)\n",
       "  (conv2): Conv1d(128, 8, kernel_size=(1,), stride=(1,))\n",
       ")"
      ]
     },
     "execution_count": 32,
     "metadata": {},
     "output_type": "execute_result"
    }
   ],
   "source": [
    "model.train()"
   ]
  },
  {
   "cell_type": "code",
   "execution_count": 33,
   "metadata": {},
   "outputs": [
    {
     "name": "stdout",
     "output_type": "stream",
     "text": [
      "Epoch 0\n"
     ]
    },
    {
     "name": "stderr",
     "output_type": "stream",
     "text": [
      "Loss: 0.9627180099487305: 100%|██████████| 100/100 [02:25<00:00,  1.46s/it]\n"
     ]
    },
    {
     "name": "stdout",
     "output_type": "stream",
     "text": [
      "Mean loss: 1.4680266362428664\n",
      "Epoch 1\n"
     ]
    },
    {
     "name": "stderr",
     "output_type": "stream",
     "text": [
      "Loss: 0.767512857913971: 100%|██████████| 100/100 [02:19<00:00,  1.39s/it]\n"
     ]
    },
    {
     "name": "stdout",
     "output_type": "stream",
     "text": [
      "Mean loss: 1.194491957128048\n",
      "Epoch 2\n"
     ]
    },
    {
     "name": "stderr",
     "output_type": "stream",
     "text": [
      "Loss: 0.7247923016548157: 100%|██████████| 100/100 [02:23<00:00,  1.44s/it]\n"
     ]
    },
    {
     "name": "stdout",
     "output_type": "stream",
     "text": [
      "Mean loss: 1.0695748293399812\n",
      "Epoch 3\n"
     ]
    },
    {
     "name": "stderr",
     "output_type": "stream",
     "text": [
      "Loss: 1.4309873580932617: 100%|██████████| 100/100 [02:25<00:00,  1.45s/it]\n"
     ]
    },
    {
     "name": "stdout",
     "output_type": "stream",
     "text": [
      "Mean loss: 1.0023210227489472\n",
      "Epoch 4\n"
     ]
    },
    {
     "name": "stderr",
     "output_type": "stream",
     "text": [
      "Loss: 0.5869309306144714: 100%|██████████| 100/100 [02:22<00:00,  1.43s/it]\n"
     ]
    },
    {
     "name": "stdout",
     "output_type": "stream",
     "text": [
      "Mean loss: 0.9212375447154045\n",
      "Epoch 5\n"
     ]
    },
    {
     "name": "stderr",
     "output_type": "stream",
     "text": [
      "Loss: 0.6881910562515259: 100%|██████████| 100/100 [02:25<00:00,  1.45s/it]\n"
     ]
    },
    {
     "name": "stdout",
     "output_type": "stream",
     "text": [
      "Mean loss: 0.8357695633172989\n",
      "Epoch 6\n"
     ]
    },
    {
     "name": "stderr",
     "output_type": "stream",
     "text": [
      "Loss: 1.4634661674499512: 100%|██████████| 100/100 [02:25<00:00,  1.45s/it]\n"
     ]
    },
    {
     "name": "stdout",
     "output_type": "stream",
     "text": [
      "Mean loss: 0.7564381082355977\n",
      "Epoch 7\n"
     ]
    },
    {
     "name": "stderr",
     "output_type": "stream",
     "text": [
      "Loss: 0.11193381249904633: 100%|██████████| 100/100 [02:27<00:00,  1.47s/it]\n"
     ]
    },
    {
     "name": "stdout",
     "output_type": "stream",
     "text": [
      "Mean loss: 0.7460381774604321\n",
      "Epoch 8\n"
     ]
    },
    {
     "name": "stderr",
     "output_type": "stream",
     "text": [
      "Loss: 0.3754695653915405: 100%|██████████| 100/100 [02:26<00:00,  1.46s/it]\n"
     ]
    },
    {
     "name": "stdout",
     "output_type": "stream",
     "text": [
      "Mean loss: 0.669399773478508\n",
      "Epoch 9\n"
     ]
    },
    {
     "name": "stderr",
     "output_type": "stream",
     "text": [
      "Loss: 0.2020174264907837: 100%|██████████| 100/100 [02:25<00:00,  1.45s/it] "
     ]
    },
    {
     "name": "stdout",
     "output_type": "stream",
     "text": [
      "Mean loss: 0.5318446274101735\n"
     ]
    },
    {
     "name": "stderr",
     "output_type": "stream",
     "text": [
      "\n"
     ]
    }
   ],
   "source": [
    "def train_one_epoch() -> float:\n",
    "    loss_agg = []\n",
    "    pbar = tqdm.tqdm(dataloader, total=EPOCH_LENGTH)\n",
    "    for data, labels in pbar:\n",
    "        optimizer.zero_grad()\n",
    "        output = model(data)\n",
    "        loss = loss_fn(output, labels)\n",
    "        loss.backward()\n",
    "        optimizer.step()\n",
    "        loss_agg.append(loss.item())\n",
    "        pbar.set_description(f\"Loss: {loss.item()}\")\n",
    "    mean_loss = np.array(loss_agg).mean()\n",
    "    print(f\"Mean loss: {mean_loss}\")\n",
    "    return mean_loss\n",
    "\n",
    "losses = []\n",
    "# Note: PoC, only 10 epochs\n",
    "# Training takes long time nonetheless\n",
    "for epoch in range(10):\n",
    "    print(f\"Epoch {epoch}\")\n",
    "    epoch_loss = train_one_epoch()\n",
    "    losses.append(epoch_loss)"
   ]
  },
  {
   "cell_type": "code",
   "execution_count": 34,
   "metadata": {},
   "outputs": [
    {
     "data": {
      "text/plain": [
       "[<matplotlib.lines.Line2D at 0x1c64806a440>]"
      ]
     },
     "execution_count": 34,
     "metadata": {},
     "output_type": "execute_result"
    },
    {
     "data": {
      "image/png": "[encoded data removed]",
      "text/plain": [
       "<Figure size 640x480 with 1 Axes>"
      ]
     },
     "metadata": {},
     "output_type": "display_data"
    }
   ],
   "source": [
    "# TODO: verify correctness\n",
    "plt.plot(losses)"
   ]
  }
 ],
 "metadata": {
  "language_info": {
   "name": "python"
  }
 },
 "nbformat": 4,
 "nbformat_minor": 2
}
